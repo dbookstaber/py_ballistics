{
 "cells": [
  {
   "cell_type": "code",
   "execution_count": null,
   "metadata": {},
   "outputs": [],
   "source": [
    "#TODO Have to quantize or interpolate RK4 to get closer to desired distances."
   ]
  },
  {
   "cell_type": "code",
   "execution_count": 1,
   "metadata": {
    "ExecuteTime": {
     "end_time": "2024-04-06T19:27:24.165195500Z",
     "start_time": "2024-04-06T19:27:22.645134600Z"
    }
   },
   "outputs": [
    {
     "name": "stdout",
     "output_type": "stream",
     "text": [
      "Default units:\n",
      "angular = degree\n",
      "distance = yard\n",
      "velocity = fps\n",
      "pressure = inHg\n",
      "temperature = fahrenheit\n",
      "diameter = inch\n",
      "length = inch\n",
      "weight = grain\n",
      "adjustment = mil\n",
      "drop = inch\n",
      "energy = foot-pound\n",
      "ogw = pound\n",
      "sight_height = inch\n",
      "target_height = inch\n",
      "twist = inch\n"
     ]
    },
    {
     "name": "stderr",
     "output_type": "stream",
     "text": [
      "d:\\Code\\py-ballisticcalc\\py_ballisticcalc\\__init__.py:219: UserWarning: Library running in pure python mode. For better performance install 'py_ballisticcalc.exts' binary package\n",
      "  warnings.warn(\"Library running in pure python mode. \"\n"
     ]
    }
   ],
   "source": [
    "# Uncomment pyximport to compile instead of running pure python\n",
    "#import pyximport; pyximport.install(language_level=3)\n",
    "\n",
    "import copy\n",
    "import logging\n",
    "import math\n",
    "import pandas\n",
    "from matplotlib import pyplot as plt\n",
    "from py_ballisticcalc import TableG7, TableG1\n",
    "from py_ballisticcalc import Ammo, Atmo, Wind\n",
    "from py_ballisticcalc import Weapon, Shot, Calculator\n",
    "from py_ballisticcalc import PreferredUnits, set_global_use_powder_sensitivity\n",
    "from py_ballisticcalc.drag_model import *\n",
    "from py_ballisticcalc.unit import *\n",
    "from py_ballisticcalc.trajectory_calc import *\n",
    "from py_ballisticcalc.rk4 import *\n",
    "from py_ballisticcalc.logger import logger\n",
    "\n",
    "logger.setLevel(logging.WARNING)\n",
    "print(\"Default units:\\n\"+str(PreferredUnits))  # Print default units"
   ]
  },
  {
   "cell_type": "markdown",
   "metadata": {},
   "source": [
    "# Simple Zero"
   ]
  },
  {
   "cell_type": "code",
   "execution_count": 6,
   "metadata": {},
   "outputs": [
    {
     "name": "stdout",
     "output_type": "stream",
     "text": [
      "Running RK4 Calculator...\n"
     ]
    },
    {
     "data": {
      "text/html": [
       "<div>\n",
       "<style scoped>\n",
       "    .dataframe tbody tr th:only-of-type {\n",
       "        vertical-align: middle;\n",
       "    }\n",
       "\n",
       "    .dataframe tbody tr th {\n",
       "        vertical-align: top;\n",
       "    }\n",
       "\n",
       "    .dataframe thead th {\n",
       "        text-align: right;\n",
       "    }\n",
       "</style>\n",
       "<table border=\"1\" class=\"dataframe\">\n",
       "  <thead>\n",
       "    <tr style=\"text-align: right;\">\n",
       "      <th></th>\n",
       "      <th>time</th>\n",
       "      <th>velocity</th>\n",
       "      <th>mach</th>\n",
       "      <th>target_drop</th>\n",
       "      <th>drop_adj</th>\n",
       "      <th>angle</th>\n",
       "      <th>drag</th>\n",
       "    </tr>\n",
       "    <tr>\n",
       "      <th>distance</th>\n",
       "      <th></th>\n",
       "      <th></th>\n",
       "      <th></th>\n",
       "      <th></th>\n",
       "      <th></th>\n",
       "      <th></th>\n",
       "      <th></th>\n",
       "    </tr>\n",
       "  </thead>\n",
       "  <tbody>\n",
       "    <tr>\n",
       "      <th>0.0 yd</th>\n",
       "      <td>0.000 s</td>\n",
       "      <td>2600.0 ft/s</td>\n",
       "      <td>2.33 mach</td>\n",
       "      <td>-2.0 inch</td>\n",
       "      <td>0.000 mil</td>\n",
       "      <td>0.0751 °</td>\n",
       "      <td>0.000</td>\n",
       "    </tr>\n",
       "    <tr>\n",
       "      <th>100.7 yd</th>\n",
       "      <td>0.120 s</td>\n",
       "      <td>2398.6 ft/s</td>\n",
       "      <td>2.15 mach</td>\n",
       "      <td>0.3 inch</td>\n",
       "      <td>0.072 mil</td>\n",
       "      <td>-0.0135 °</td>\n",
       "      <td>0.660</td>\n",
       "    </tr>\n",
       "    <tr>\n",
       "      <th>201.2 yd</th>\n",
       "      <td>0.250 s</td>\n",
       "      <td>2206.8 ft/s</td>\n",
       "      <td>1.98 mach</td>\n",
       "      <td>-3.5 inch</td>\n",
       "      <td>-0.499 mil</td>\n",
       "      <td>-0.1178 °</td>\n",
       "      <td>0.629</td>\n",
       "    </tr>\n",
       "    <tr>\n",
       "      <th>300.7 yd</th>\n",
       "      <td>0.390 s</td>\n",
       "      <td>2026.2 ft/s</td>\n",
       "      <td>1.81 mach</td>\n",
       "      <td>-14.3 inch</td>\n",
       "      <td>-1.349 mil</td>\n",
       "      <td>-0.2399 °</td>\n",
       "      <td>0.598</td>\n",
       "    </tr>\n",
       "    <tr>\n",
       "      <th>404.7 yd</th>\n",
       "      <td>0.550 s</td>\n",
       "      <td>1846.1 ft/s</td>\n",
       "      <td>1.65 mach</td>\n",
       "      <td>-34.5 inch</td>\n",
       "      <td>-2.414 mil</td>\n",
       "      <td>-0.3925 °</td>\n",
       "      <td>0.571</td>\n",
       "    </tr>\n",
       "    <tr>\n",
       "      <th>505.2 yd</th>\n",
       "      <td>0.720 s</td>\n",
       "      <td>1679.3 ft/s</td>\n",
       "      <td>1.50 mach</td>\n",
       "      <td>-64.5 inch</td>\n",
       "      <td>-3.609 mil</td>\n",
       "      <td>-0.5706 °</td>\n",
       "      <td>0.548</td>\n",
       "    </tr>\n",
       "    <tr>\n",
       "      <th>602.0 yd</th>\n",
       "      <td>0.900 s</td>\n",
       "      <td>1525.2 ft/s</td>\n",
       "      <td>1.37 mach</td>\n",
       "      <td>-104.9 inch</td>\n",
       "      <td>-4.930 mil</td>\n",
       "      <td>-0.7781 °</td>\n",
       "      <td>0.526</td>\n",
       "    </tr>\n",
       "    <tr>\n",
       "      <th>703.9 yd</th>\n",
       "      <td>1.110 s</td>\n",
       "      <td>1369.9 ft/s</td>\n",
       "      <td>1.23 mach</td>\n",
       "      <td>-162.6 inch</td>\n",
       "      <td>-6.536 mil</td>\n",
       "      <td>-1.0461 °</td>\n",
       "      <td>0.501</td>\n",
       "    </tr>\n",
       "    <tr>\n",
       "      <th>804.0 yd</th>\n",
       "      <td>1.340 s</td>\n",
       "      <td>1226.0 ft/s</td>\n",
       "      <td>1.10 mach</td>\n",
       "      <td>-237.9 inch</td>\n",
       "      <td>-8.371 mil</td>\n",
       "      <td>-1.3736 °</td>\n",
       "      <td>0.468</td>\n",
       "    </tr>\n",
       "    <tr>\n",
       "      <th>901.3 yd</th>\n",
       "      <td>1.590 s</td>\n",
       "      <td>1099.8 ft/s</td>\n",
       "      <td>0.99 mach</td>\n",
       "      <td>-333.1 inch</td>\n",
       "      <td>-10.456 mil</td>\n",
       "      <td>-1.7712 °</td>\n",
       "      <td>0.367</td>\n",
       "    </tr>\n",
       "  </tbody>\n",
       "</table>\n",
       "</div>"
      ],
      "text/plain": [
       "             time     velocity       mach  target_drop     drop_adj  \\\n",
       "distance                                                              \n",
       "0.0 yd    0.000 s  2600.0 ft/s  2.33 mach    -2.0 inch    0.000 mil   \n",
       "100.7 yd  0.120 s  2398.6 ft/s  2.15 mach     0.3 inch    0.072 mil   \n",
       "201.2 yd  0.250 s  2206.8 ft/s  1.98 mach    -3.5 inch   -0.499 mil   \n",
       "300.7 yd  0.390 s  2026.2 ft/s  1.81 mach   -14.3 inch   -1.349 mil   \n",
       "404.7 yd  0.550 s  1846.1 ft/s  1.65 mach   -34.5 inch   -2.414 mil   \n",
       "505.2 yd  0.720 s  1679.3 ft/s  1.50 mach   -64.5 inch   -3.609 mil   \n",
       "602.0 yd  0.900 s  1525.2 ft/s  1.37 mach  -104.9 inch   -4.930 mil   \n",
       "703.9 yd  1.110 s  1369.9 ft/s  1.23 mach  -162.6 inch   -6.536 mil   \n",
       "804.0 yd  1.340 s  1226.0 ft/s  1.10 mach  -237.9 inch   -8.371 mil   \n",
       "901.3 yd  1.590 s  1099.8 ft/s  0.99 mach  -333.1 inch  -10.456 mil   \n",
       "\n",
       "              angle   drag  \n",
       "distance                    \n",
       "0.0 yd     0.0751 °  0.000  \n",
       "100.7 yd  -0.0135 °  0.660  \n",
       "201.2 yd  -0.1178 °  0.629  \n",
       "300.7 yd  -0.2399 °  0.598  \n",
       "404.7 yd  -0.3925 °  0.571  \n",
       "505.2 yd  -0.5706 °  0.548  \n",
       "602.0 yd  -0.7781 °  0.526  \n",
       "703.9 yd  -1.0461 °  0.501  \n",
       "804.0 yd  -1.3736 °  0.468  \n",
       "901.3 yd  -1.7712 °  0.367  "
      ]
     },
     "execution_count": 6,
     "metadata": {},
     "output_type": "execute_result"
    }
   ],
   "source": [
    "zero = Shot(weapon=Weapon(sight_height=2, zero_elevation=Angular.Mil(1.335)), ammo=Ammo(DragModel(0.22, TableG7), mv=Velocity.FPS(2600)))\n",
    "calc = RK4Calculator()\n",
    "shot_result = calc.fire(zero, trajectory_range=1000)\n",
    "shot_result.dataframe(True).drop(['height', 'look_distance', 'density_factor', 'energy', 'ogw', 'flag', 'windage', 'windage_adj'], axis=1).set_index('distance')"
   ]
  },
  {
   "cell_type": "code",
   "execution_count": 7,
   "metadata": {
    "ExecuteTime": {
     "end_time": "2024-04-06T19:27:24.176090100Z",
     "start_time": "2024-04-06T19:27:24.162195500Z"
    }
   },
   "outputs": [
    {
     "name": "stdout",
     "output_type": "stream",
     "text": [
      "Running RK4 Calculator...\n",
      "Running RK4 Calculator...\n",
      "Running RK4 Calculator...\n",
      "Running RK4 Calculator...\n",
      "Barrel elevation for 100.0yd zero: 1.263mil\n"
     ]
    }
   ],
   "source": [
    "# Establish 100-yard zero for a standard .308, G7 BC=0.22, muzzle velocity 2600fps\n",
    "zero = Shot(weapon=Weapon(sight_height=2), ammo=Ammo(DragModel(0.22, TableG7), mv=Velocity.FPS(2600)))\n",
    "calc = RK4Calculator()\n",
    "zero_distance = Distance.Yard(100)\n",
    "zero_elevation = calc.set_weapon_zero(zero, zero_distance)\n",
    "print(f'Barrel elevation for {zero_distance} zero: {zero_elevation << PreferredUnits.adjustment}')"
   ]
  },
  {
   "cell_type": "markdown",
   "metadata": {},
   "source": [
    "# Plot Trajectory with Danger Space"
   ]
  },
  {
   "cell_type": "code",
   "execution_count": 8,
   "metadata": {
    "ExecuteTime": {
     "end_time": "2024-04-06T19:27:24.493398400Z",
     "start_time": "2024-04-06T19:27:24.173573100Z"
    }
   },
   "outputs": [
    {
     "name": "stdout",
     "output_type": "stream",
     "text": [
      "Running RK4 Calculator...\n",
      "Danger space at 300.7yd for 19.7inch tall target ranges from 216.0yd to 360.4yd\n"
     ]
    },
    {
     "data": {
      "image/png": "[encoded data removed]",
      "text/plain": [
       "<Figure size 640x480 with 2 Axes>"
      ]
     },
     "metadata": {
      "needs_background": "light"
     },
     "output_type": "display_data"
    }
   ],
   "source": [
    "# Plot trajectory out to 500 yards\n",
    "shot_result = calc.fire(zero, trajectory_range=500, extra_data=True)\n",
    "ax = shot_result.plot()\n",
    "# Find danger space for a half-meter tall target at 300 yards\n",
    "danger_space = shot_result.danger_space(Distance.Yard(300), Distance.Meter(.5))\n",
    "print(danger_space)\n",
    "danger_space.overlay(ax)  # Highlight danger space on the plot\n",
    "plt.show()"
   ]
  },
  {
   "cell_type": "markdown",
   "metadata": {},
   "source": [
    "# Print Range Card"
   ]
  },
  {
   "cell_type": "code",
   "execution_count": 9,
   "metadata": {
    "ExecuteTime": {
     "end_time": "2024-04-06T19:27:24.609375Z",
     "start_time": "2024-04-06T19:27:24.507952400Z"
    }
   },
   "outputs": [
    {
     "name": "stdout",
     "output_type": "stream",
     "text": [
      "Running RK4 Calculator...\n"
     ]
    },
    {
     "data": {
      "text/html": [
       "<div>\n",
       "<style scoped>\n",
       "    .dataframe tbody tr th:only-of-type {\n",
       "        vertical-align: middle;\n",
       "    }\n",
       "\n",
       "    .dataframe tbody tr th {\n",
       "        vertical-align: top;\n",
       "    }\n",
       "\n",
       "    .dataframe thead th {\n",
       "        text-align: right;\n",
       "    }\n",
       "</style>\n",
       "<table border=\"1\" class=\"dataframe\">\n",
       "  <thead>\n",
       "    <tr style=\"text-align: right;\">\n",
       "      <th></th>\n",
       "      <th>time</th>\n",
       "      <th>velocity</th>\n",
       "      <th>mach</th>\n",
       "      <th>target_drop</th>\n",
       "      <th>drop_adj</th>\n",
       "      <th>windage</th>\n",
       "      <th>windage_adj</th>\n",
       "      <th>angle</th>\n",
       "      <th>drag</th>\n",
       "    </tr>\n",
       "    <tr>\n",
       "      <th>distance</th>\n",
       "      <th></th>\n",
       "      <th></th>\n",
       "      <th></th>\n",
       "      <th></th>\n",
       "      <th></th>\n",
       "      <th></th>\n",
       "      <th></th>\n",
       "      <th></th>\n",
       "      <th></th>\n",
       "    </tr>\n",
       "  </thead>\n",
       "  <tbody>\n",
       "    <tr>\n",
       "      <th>0.0 yd</th>\n",
       "      <td>0.000 s</td>\n",
       "      <td>2600.0 ft/s</td>\n",
       "      <td>2.33 mach</td>\n",
       "      <td>-2.0 inch</td>\n",
       "      <td>0.000 mil</td>\n",
       "      <td>0.0 inch</td>\n",
       "      <td>0.000 mil</td>\n",
       "      <td>0.0710 °</td>\n",
       "      <td>0.000</td>\n",
       "    </tr>\n",
       "    <tr>\n",
       "      <th>100.7 yd</th>\n",
       "      <td>0.120 s</td>\n",
       "      <td>2398.6 ft/s</td>\n",
       "      <td>2.15 mach</td>\n",
       "      <td>0.0 inch</td>\n",
       "      <td>0.000 mil</td>\n",
       "      <td>0.4 inch</td>\n",
       "      <td>0.108 mil</td>\n",
       "      <td>-0.0176 °</td>\n",
       "      <td>0.660</td>\n",
       "    </tr>\n",
       "    <tr>\n",
       "      <th>201.2 yd</th>\n",
       "      <td>0.250 s</td>\n",
       "      <td>2206.8 ft/s</td>\n",
       "      <td>1.98 mach</td>\n",
       "      <td>-4.1 inch</td>\n",
       "      <td>-0.571 mil</td>\n",
       "      <td>1.7 inch</td>\n",
       "      <td>0.236 mil</td>\n",
       "      <td>-0.1218 °</td>\n",
       "      <td>0.629</td>\n",
       "    </tr>\n",
       "    <tr>\n",
       "      <th>300.7 yd</th>\n",
       "      <td>0.390 s</td>\n",
       "      <td>2026.2 ft/s</td>\n",
       "      <td>1.81 mach</td>\n",
       "      <td>-15.1 inch</td>\n",
       "      <td>-1.421 mil</td>\n",
       "      <td>4.0 inch</td>\n",
       "      <td>0.372 mil</td>\n",
       "      <td>-0.2439 °</td>\n",
       "      <td>0.598</td>\n",
       "    </tr>\n",
       "    <tr>\n",
       "      <th>404.7 yd</th>\n",
       "      <td>0.550 s</td>\n",
       "      <td>1846.1 ft/s</td>\n",
       "      <td>1.65 mach</td>\n",
       "      <td>-35.6 inch</td>\n",
       "      <td>-2.486 mil</td>\n",
       "      <td>7.6 inch</td>\n",
       "      <td>0.528 mil</td>\n",
       "      <td>-0.3966 °</td>\n",
       "      <td>0.571</td>\n",
       "    </tr>\n",
       "    <tr>\n",
       "      <th>505.2 yd</th>\n",
       "      <td>0.720 s</td>\n",
       "      <td>1679.3 ft/s</td>\n",
       "      <td>1.50 mach</td>\n",
       "      <td>-65.7 inch</td>\n",
       "      <td>-3.681 mil</td>\n",
       "      <td>12.4 inch</td>\n",
       "      <td>0.693 mil</td>\n",
       "      <td>-0.5747 °</td>\n",
       "      <td>0.548</td>\n",
       "    </tr>\n",
       "    <tr>\n",
       "      <th>602.0 yd</th>\n",
       "      <td>0.900 s</td>\n",
       "      <td>1525.2 ft/s</td>\n",
       "      <td>1.37 mach</td>\n",
       "      <td>-106.4 inch</td>\n",
       "      <td>-5.002 mil</td>\n",
       "      <td>18.5 inch</td>\n",
       "      <td>0.868 mil</td>\n",
       "      <td>-0.7821 °</td>\n",
       "      <td>0.526</td>\n",
       "    </tr>\n",
       "    <tr>\n",
       "      <th>703.9 yd</th>\n",
       "      <td>1.110 s</td>\n",
       "      <td>1370.0 ft/s</td>\n",
       "      <td>1.23 mach</td>\n",
       "      <td>-164.4 inch</td>\n",
       "      <td>-6.608 mil</td>\n",
       "      <td>26.7 inch</td>\n",
       "      <td>1.073 mil</td>\n",
       "      <td>-1.0502 °</td>\n",
       "      <td>0.501</td>\n",
       "    </tr>\n",
       "    <tr>\n",
       "      <th>804.0 yd</th>\n",
       "      <td>1.340 s</td>\n",
       "      <td>1226.0 ft/s</td>\n",
       "      <td>1.10 mach</td>\n",
       "      <td>-239.9 inch</td>\n",
       "      <td>-8.443 mil</td>\n",
       "      <td>36.9 inch</td>\n",
       "      <td>1.298 mil</td>\n",
       "      <td>-1.3776 °</td>\n",
       "      <td>0.468</td>\n",
       "    </tr>\n",
       "    <tr>\n",
       "      <th>901.3 yd</th>\n",
       "      <td>1.590 s</td>\n",
       "      <td>1099.8 ft/s</td>\n",
       "      <td>0.99 mach</td>\n",
       "      <td>-335.4 inch</td>\n",
       "      <td>-10.528 mil</td>\n",
       "      <td>49.1 inch</td>\n",
       "      <td>1.541 mil</td>\n",
       "      <td>-1.7752 °</td>\n",
       "      <td>0.367</td>\n",
       "    </tr>\n",
       "  </tbody>\n",
       "</table>\n",
       "</div>"
      ],
      "text/plain": [
       "             time     velocity       mach  target_drop     drop_adj  \\\n",
       "distance                                                              \n",
       "0.0 yd    0.000 s  2600.0 ft/s  2.33 mach    -2.0 inch    0.000 mil   \n",
       "100.7 yd  0.120 s  2398.6 ft/s  2.15 mach     0.0 inch    0.000 mil   \n",
       "201.2 yd  0.250 s  2206.8 ft/s  1.98 mach    -4.1 inch   -0.571 mil   \n",
       "300.7 yd  0.390 s  2026.2 ft/s  1.81 mach   -15.1 inch   -1.421 mil   \n",
       "404.7 yd  0.550 s  1846.1 ft/s  1.65 mach   -35.6 inch   -2.486 mil   \n",
       "505.2 yd  0.720 s  1679.3 ft/s  1.50 mach   -65.7 inch   -3.681 mil   \n",
       "602.0 yd  0.900 s  1525.2 ft/s  1.37 mach  -106.4 inch   -5.002 mil   \n",
       "703.9 yd  1.110 s  1370.0 ft/s  1.23 mach  -164.4 inch   -6.608 mil   \n",
       "804.0 yd  1.340 s  1226.0 ft/s  1.10 mach  -239.9 inch   -8.443 mil   \n",
       "901.3 yd  1.590 s  1099.8 ft/s  0.99 mach  -335.4 inch  -10.528 mil   \n",
       "\n",
       "            windage windage_adj      angle   drag  \n",
       "distance                                           \n",
       "0.0 yd     0.0 inch   0.000 mil   0.0710 °  0.000  \n",
       "100.7 yd   0.4 inch   0.108 mil  -0.0176 °  0.660  \n",
       "201.2 yd   1.7 inch   0.236 mil  -0.1218 °  0.629  \n",
       "300.7 yd   4.0 inch   0.372 mil  -0.2439 °  0.598  \n",
       "404.7 yd   7.6 inch   0.528 mil  -0.3966 °  0.571  \n",
       "505.2 yd  12.4 inch   0.693 mil  -0.5747 °  0.548  \n",
       "602.0 yd  18.5 inch   0.868 mil  -0.7821 °  0.526  \n",
       "703.9 yd  26.7 inch   1.073 mil  -1.0502 °  0.501  \n",
       "804.0 yd  36.9 inch   1.298 mil  -1.3776 °  0.468  \n",
       "901.3 yd  49.1 inch   1.541 mil  -1.7752 °  0.367  "
      ]
     },
     "execution_count": 9,
     "metadata": {},
     "output_type": "execute_result"
    }
   ],
   "source": [
    "# Range card for this zero with 5mph cross-wind from left to right\n",
    "zero.winds = [Wind(Velocity.MPH(5), Angular.OClock(3))]\n",
    "range_card = calc.fire(zero, trajectory_range=1000)\n",
    "# for p in range_card: print(p.formatted())\n",
    "range_card.dataframe().to_clipboard()\n",
    "range_card.dataframe(True).drop(['height', 'look_distance', 'density_factor', 'energy', 'ogw', 'flag'], axis=1).set_index('distance')"
   ]
  },
  {
   "cell_type": "markdown",
   "metadata": {},
   "source": [
    "# Firing Solutions\n",
    "\n",
    "## Different Distance, from Range Card\n",
    "\n",
    "First approach here shows getting firing solution by looking up the adjustment in the Range Card:"
   ]
  },
  {
   "cell_type": "code",
   "execution_count": 5,
   "metadata": {
    "ExecuteTime": {
     "end_time": "2024-04-06T19:27:24.645331Z",
     "start_time": "2024-04-06T19:27:24.531599200Z"
    }
   },
   "outputs": [
    {
     "name": "stdout",
     "output_type": "stream",
     "text": [
      "Zero trajectory hits -65.0inch at 500.0yd\n",
      "Sight adjustment to hit 500.0yd target is -3.679mil\n",
      "After adjustment: drop at 500.0yd is -0.0inch\n"
     ]
    }
   ],
   "source": [
    "# Now shooter is sighting a target at look-distance 500 yard (zero.look-angle):\n",
    "new_target_distance = Distance.Yard(500)\n",
    "# Get row for this distance from the range card\n",
    "new_target = range_card.get_at_distance(new_target_distance)\n",
    "print(f'Zero trajectory hits {new_target.target_drop << PreferredUnits.drop}'\n",
    "      f' at {(new_target.distance << PreferredUnits.distance)}')\n",
    "\n",
    "# Shooter looks up adjustment to hit new target:\n",
    "hold = new_target.drop_adj  # << Firing solution\n",
    "\n",
    "print(f'Sight adjustment to hit {(new_target.distance << PreferredUnits.distance)} target'\n",
    "      f' is {(hold << PreferredUnits.adjustment)}')\n",
    "# Shooter dials that hold value for a 500-yard shot.  Verification:\n",
    "range_card.shot.relative_angle = Angular(-hold.unit_value, hold.units)\n",
    "adjusted_result = calc.fire(range_card.shot, trajectory_range=1000)\n",
    "trajectory_adjusted = adjusted_result.get_at_distance(new_target_distance)\n",
    "print(f'After adjustment: drop at {trajectory_adjusted.distance << PreferredUnits.distance}'\n",
    "      f' is {trajectory_adjusted.target_drop << PreferredUnits.drop}')"
   ]
  },
  {
   "cell_type": "markdown",
   "metadata": {},
   "source": [
    "## Different Look Angle\n",
    "\n",
    "Second approach here shows solving for barrel elevation to hit new target, then adjusting by the difference between that and the zero barrel elevation:"
   ]
  },
  {
   "cell_type": "code",
   "execution_count": 6,
   "metadata": {
    "ExecuteTime": {
     "end_time": "2024-04-06T19:27:24.960674300Z",
     "start_time": "2024-04-06T19:27:24.559402700Z"
    }
   },
   "outputs": [
    {
     "name": "stdout",
     "output_type": "stream",
     "text": [
      "To hit target at look-distance of 500.0yd sighted at a 25.84° look-angle, barrel elevation=4.416mil\n",
      "Current zero has barrel elevated 1.335mil so hold for new shot is 3.081mil\n",
      "(Horizontal component of distance to this target is 450.0yd)\n"
     ]
    },
    {
     "data": {
      "text/html": [
       "<div>\n",
       "<style scoped>\n",
       "    .dataframe tbody tr th:only-of-type {\n",
       "        vertical-align: middle;\n",
       "    }\n",
       "\n",
       "    .dataframe tbody tr th {\n",
       "        vertical-align: top;\n",
       "    }\n",
       "\n",
       "    .dataframe thead th {\n",
       "        text-align: right;\n",
       "    }\n",
       "</style>\n",
       "<table border=\"1\" class=\"dataframe\">\n",
       "  <thead>\n",
       "    <tr style=\"text-align: right;\">\n",
       "      <th></th>\n",
       "      <th>time</th>\n",
       "      <th>velocity</th>\n",
       "      <th>mach</th>\n",
       "      <th>target_drop</th>\n",
       "      <th>drop_adj</th>\n",
       "      <th>windage</th>\n",
       "      <th>windage_adj</th>\n",
       "      <th>look_distance</th>\n",
       "      <th>angle</th>\n",
       "      <th>density_factor</th>\n",
       "    </tr>\n",
       "    <tr>\n",
       "      <th>distance</th>\n",
       "      <th></th>\n",
       "      <th></th>\n",
       "      <th></th>\n",
       "      <th></th>\n",
       "      <th></th>\n",
       "      <th></th>\n",
       "      <th></th>\n",
       "      <th></th>\n",
       "      <th></th>\n",
       "      <th></th>\n",
       "    </tr>\n",
       "  </thead>\n",
       "  <tbody>\n",
       "    <tr>\n",
       "      <th>0.0 yd</th>\n",
       "      <td>0.000 s</td>\n",
       "      <td>2600.0 ft/s</td>\n",
       "      <td>2.33 mach</td>\n",
       "      <td>-1.8 inch</td>\n",
       "      <td>0.000 mil</td>\n",
       "      <td>0.0 inch</td>\n",
       "      <td>0.000 mil</td>\n",
       "      <td>0.0 yd</td>\n",
       "      <td>26.0884 °</td>\n",
       "      <td>4.548e-05</td>\n",
       "    </tr>\n",
       "    <tr>\n",
       "      <th>50.0 yd</th>\n",
       "      <td>0.066 s</td>\n",
       "      <td>2485.7 ft/s</td>\n",
       "      <td>2.23 mach</td>\n",
       "      <td>6.1 inch</td>\n",
       "      <td>3.127 mil</td>\n",
       "      <td>0.1 inch</td>\n",
       "      <td>0.072 mil</td>\n",
       "      <td>55.6 yd</td>\n",
       "      <td>26.0456 °</td>\n",
       "      <td>-2.144e-03</td>\n",
       "    </tr>\n",
       "    <tr>\n",
       "      <th>100.0 yd</th>\n",
       "      <td>0.134 s</td>\n",
       "      <td>2374.4 ft/s</td>\n",
       "      <td>2.13 mach</td>\n",
       "      <td>12.5 inch</td>\n",
       "      <td>3.186 mil</td>\n",
       "      <td>0.5 inch</td>\n",
       "      <td>0.148 mil</td>\n",
       "      <td>111.1 yd</td>\n",
       "      <td>25.9987 °</td>\n",
       "      <td>-4.285e-03</td>\n",
       "    </tr>\n",
       "    <tr>\n",
       "      <th>150.1 yd</th>\n",
       "      <td>0.206 s</td>\n",
       "      <td>2266.2 ft/s</td>\n",
       "      <td>2.03 mach</td>\n",
       "      <td>17.2 inch</td>\n",
       "      <td>2.914 mil</td>\n",
       "      <td>1.2 inch</td>\n",
       "      <td>0.226 mil</td>\n",
       "      <td>166.7 yd</td>\n",
       "      <td>25.9473 °</td>\n",
       "      <td>-6.417e-03</td>\n",
       "    </tr>\n",
       "    <tr>\n",
       "      <th>200.0 yd</th>\n",
       "      <td>0.282 s</td>\n",
       "      <td>2161.4 ft/s</td>\n",
       "      <td>1.94 mach</td>\n",
       "      <td>20.0 inch</td>\n",
       "      <td>2.539 mil</td>\n",
       "      <td>2.2 inch</td>\n",
       "      <td>0.308 mil</td>\n",
       "      <td>222.3 yd</td>\n",
       "      <td>25.8908 °</td>\n",
       "      <td>-8.538e-03</td>\n",
       "    </tr>\n",
       "    <tr>\n",
       "      <th>250.1 yd</th>\n",
       "      <td>0.361 s</td>\n",
       "      <td>2059.6 ft/s</td>\n",
       "      <td>1.85 mach</td>\n",
       "      <td>20.7 inch</td>\n",
       "      <td>2.103 mil</td>\n",
       "      <td>3.5 inch</td>\n",
       "      <td>0.394 mil</td>\n",
       "      <td>277.8 yd</td>\n",
       "      <td>25.8287 °</td>\n",
       "      <td>-1.065e-02</td>\n",
       "    </tr>\n",
       "    <tr>\n",
       "      <th>300.0 yd</th>\n",
       "      <td>0.444 s</td>\n",
       "      <td>1960.7 ft/s</td>\n",
       "      <td>1.76 mach</td>\n",
       "      <td>19.1 inch</td>\n",
       "      <td>1.620 mil</td>\n",
       "      <td>5.1 inch</td>\n",
       "      <td>0.483 mil</td>\n",
       "      <td>333.4 yd</td>\n",
       "      <td>25.7602 °</td>\n",
       "      <td>-1.275e-02</td>\n",
       "    </tr>\n",
       "    <tr>\n",
       "      <th>350.0 yd</th>\n",
       "      <td>0.531 s</td>\n",
       "      <td>1864.5 ft/s</td>\n",
       "      <td>1.67 mach</td>\n",
       "      <td>15.0 inch</td>\n",
       "      <td>1.092 mil</td>\n",
       "      <td>7.1 inch</td>\n",
       "      <td>0.576 mil</td>\n",
       "      <td>388.9 yd</td>\n",
       "      <td>25.6846 °</td>\n",
       "      <td>-1.484e-02</td>\n",
       "    </tr>\n",
       "    <tr>\n",
       "      <th>400.1 yd</th>\n",
       "      <td>0.622 s</td>\n",
       "      <td>1770.6 ft/s</td>\n",
       "      <td>1.59 mach</td>\n",
       "      <td>8.2 inch</td>\n",
       "      <td>0.520 mil</td>\n",
       "      <td>9.5 inch</td>\n",
       "      <td>0.675 mil</td>\n",
       "      <td>444.5 yd</td>\n",
       "      <td>25.6007 °</td>\n",
       "      <td>-1.692e-02</td>\n",
       "    </tr>\n",
       "    <tr>\n",
       "      <th>450.0 yd</th>\n",
       "      <td>0.719 s</td>\n",
       "      <td>1679.1 ft/s</td>\n",
       "      <td>1.51 mach</td>\n",
       "      <td>-1.8 inch</td>\n",
       "      <td>-0.100 mil</td>\n",
       "      <td>12.4 inch</td>\n",
       "      <td>0.778 mil</td>\n",
       "      <td>500.0 yd</td>\n",
       "      <td>25.5077 °</td>\n",
       "      <td>-1.898e-02</td>\n",
       "    </tr>\n",
       "    <tr>\n",
       "      <th>500.0 yd</th>\n",
       "      <td>0.820 s</td>\n",
       "      <td>1589.9 ft/s</td>\n",
       "      <td>1.43 mach</td>\n",
       "      <td>-15.1 inch</td>\n",
       "      <td>-0.768 mil</td>\n",
       "      <td>15.7 inch</td>\n",
       "      <td>0.886 mil</td>\n",
       "      <td>555.5 yd</td>\n",
       "      <td>25.4042 °</td>\n",
       "      <td>-2.103e-02</td>\n",
       "    </tr>\n",
       "  </tbody>\n",
       "</table>\n",
       "</div>"
      ],
      "text/plain": [
       "             time     velocity       mach target_drop    drop_adj    windage  \\\n",
       "distance                                                                       \n",
       "0.0 yd    0.000 s  2600.0 ft/s  2.33 mach   -1.8 inch   0.000 mil   0.0 inch   \n",
       "50.0 yd   0.066 s  2485.7 ft/s  2.23 mach    6.1 inch   3.127 mil   0.1 inch   \n",
       "100.0 yd  0.134 s  2374.4 ft/s  2.13 mach   12.5 inch   3.186 mil   0.5 inch   \n",
       "150.1 yd  0.206 s  2266.2 ft/s  2.03 mach   17.2 inch   2.914 mil   1.2 inch   \n",
       "200.0 yd  0.282 s  2161.4 ft/s  1.94 mach   20.0 inch   2.539 mil   2.2 inch   \n",
       "250.1 yd  0.361 s  2059.6 ft/s  1.85 mach   20.7 inch   2.103 mil   3.5 inch   \n",
       "300.0 yd  0.444 s  1960.7 ft/s  1.76 mach   19.1 inch   1.620 mil   5.1 inch   \n",
       "350.0 yd  0.531 s  1864.5 ft/s  1.67 mach   15.0 inch   1.092 mil   7.1 inch   \n",
       "400.1 yd  0.622 s  1770.6 ft/s  1.59 mach    8.2 inch   0.520 mil   9.5 inch   \n",
       "450.0 yd  0.719 s  1679.1 ft/s  1.51 mach   -1.8 inch  -0.100 mil  12.4 inch   \n",
       "500.0 yd  0.820 s  1589.9 ft/s  1.43 mach  -15.1 inch  -0.768 mil  15.7 inch   \n",
       "\n",
       "         windage_adj look_distance      angle density_factor  \n",
       "distance                                                      \n",
       "0.0 yd     0.000 mil        0.0 yd  26.0884 °      4.548e-05  \n",
       "50.0 yd    0.072 mil       55.6 yd  26.0456 °     -2.144e-03  \n",
       "100.0 yd   0.148 mil      111.1 yd  25.9987 °     -4.285e-03  \n",
       "150.1 yd   0.226 mil      166.7 yd  25.9473 °     -6.417e-03  \n",
       "200.0 yd   0.308 mil      222.3 yd  25.8908 °     -8.538e-03  \n",
       "250.1 yd   0.394 mil      277.8 yd  25.8287 °     -1.065e-02  \n",
       "300.0 yd   0.483 mil      333.4 yd  25.7602 °     -1.275e-02  \n",
       "350.0 yd   0.576 mil      388.9 yd  25.6846 °     -1.484e-02  \n",
       "400.1 yd   0.675 mil      444.5 yd  25.6007 °     -1.692e-02  \n",
       "450.0 yd   0.778 mil      500.0 yd  25.5077 °     -1.898e-02  \n",
       "500.0 yd   0.886 mil      555.5 yd  25.4042 °     -2.103e-02  "
      ]
     },
     "execution_count": 6,
     "metadata": {},
     "output_type": "execute_result"
    }
   ],
   "source": [
    "# Calculate elevation for a new shot at a different look-angle\n",
    "new_shot = copy.copy(zero)  # Copy the zero properties; NB: Not a deepcopy!\n",
    "new_shot.look_angle = Angular.Degree(25.84)\n",
    "new_elevation = calc.barrel_elevation_for_target(shot=new_shot, target_distance=new_target_distance)\n",
    "# Firing solution:\n",
    "hold = Angular.Mil((new_elevation >> Angular.Mil) - (zero.weapon.zero_elevation >> Angular.Mil))\n",
    "\n",
    "print(f'To hit target at look-distance of {new_target_distance << PreferredUnits.distance}'\n",
    "      f' sighted at a {new_shot.look_angle << PreferredUnits.angular} look-angle,' \n",
    "      f' barrel elevation={new_elevation << PreferredUnits.adjustment}')\n",
    "print(f'Current zero has barrel elevated {zero.weapon.zero_elevation << PreferredUnits.adjustment}'\n",
    "      f' so hold for new shot is {hold << PreferredUnits.adjustment}')      \n",
    "horizontal = Distance(math.cos(new_shot.look_angle >> Angular.Radian)\n",
    "                      * new_target_distance.unit_value, new_target_distance.units)\n",
    "print(f'(Horizontal component of distance to this target is {horizontal})')\n",
    "\n",
    "# Plot this shot\n",
    "new_shot.relative_angle = hold\n",
    "card = calc.fire(new_shot, trajectory_range=500)\n",
    "card.dataframe(True).drop(['height', 'energy', 'ogw', 'drag', 'flag'], axis=1).set_index('distance')"
   ]
  },
  {
   "cell_type": "markdown",
   "metadata": {},
   "source": [
    "# Complex example\n",
    "\n",
    "Now we'll switch to metric units and:\n",
    "* Define a standard .50BMG\n",
    "* Enable and define Ammo model of powder temperature sensitivity.\n",
    "* Zeroed for a distance of 500 meters, in a 5°C atmosphere at altitude 1000ft ASL."
   ]
  },
  {
   "cell_type": "code",
   "execution_count": 7,
   "metadata": {
    "ExecuteTime": {
     "end_time": "2024-04-06T19:27:24.961675900Z",
     "start_time": "2024-04-06T19:27:24.713247700Z"
    }
   },
   "outputs": [
    {
     "name": "stdout",
     "output_type": "stream",
     "text": [
      "Barrel elevation for 500.0m zero: 4.696mil\n",
      "Muzzle velocity at zero temperature 41.0°F is 829.0m/s\n"
     ]
    }
   ],
   "source": [
    "PreferredUnits.distance = Unit.Meter\n",
    "PreferredUnits.velocity = Unit.MPS\n",
    "PreferredUnits.drop = Unit.Meter\n",
    "PreferredUnits.sight_height = Unit.Centimeter\n",
    "\n",
    "set_global_use_powder_sensitivity(True)\n",
    "\n",
    "# Standard .50BMG\n",
    "dm = DragModel(0.62, TableG1, 661, 0.51, 2.3)\n",
    "ammo=Ammo(dm, 850, Temperature.Celsius(15))\n",
    "ammo.calc_powder_sens(820, Temperature.Celsius(0))\n",
    "weapon = Weapon(sight_height=9, twist=15)\n",
    "atmo = Atmo(altitude=Distance.Foot(1000), temperature=Unit.Celsius(5), humidity=.5)\n",
    "zero = Shot(weapon=weapon, ammo=ammo, atmo=atmo)\n",
    "zero_distance = Distance.Meter(500)\n",
    "calc = Calculator()\n",
    "zero_elevation = calc.set_weapon_zero(zero, zero_distance)\n",
    "print(f'Barrel elevation for {zero_distance} zero: {zero_elevation << PreferredUnits.adjustment}')\n",
    "print(f'Muzzle velocity at zero temperature {atmo.temperature} is {ammo.get_velocity_for_temp(atmo.temperature) << PreferredUnits.velocity}')"
   ]
  },
  {
   "cell_type": "code",
   "execution_count": 8,
   "metadata": {
    "ExecuteTime": {
     "end_time": "2024-04-06T19:27:25.783004200Z",
     "start_time": "2024-04-06T19:27:24.718772800Z"
    }
   },
   "outputs": [
    {
     "name": "stdout",
     "output_type": "stream",
     "text": [
      "To hit target at look-distance of 700.0m sighted at a 30.0° look-angle, barrel elevation=6.0mil\n",
      "\t(horizontal distance to this target is 606.2m)\n",
      "Current zero has barrel elevated 4.696mil so hold for new shot is 1.304mil\n",
      "Danger space at 700.0m for 4.0m tall target at 30.0° look-angle ranges from 452.0m to 823.9m\n"
     ]
    },
    {
     "data": {
      "image/png": "[encoded data removed]",
      "text/plain": [
       "<Figure size 640x480 with 2 Axes>"
      ]
     },
     "metadata": {
      "needs_background": "light"
     },
     "output_type": "display_data"
    }
   ],
   "source": [
    "# Firing solution for 700m target at 30°\n",
    "new_shot = copy.copy(zero)  # Copy the zero properties; NB: Not a deepcopy!\n",
    "new_shot.look_angle = Angular.Degree(30)\n",
    "new_target_distance = Distance.Meter(700)\n",
    "new_elevation = calc.barrel_elevation_for_target(shot=new_shot, target_distance=new_target_distance)\n",
    "horizontal = Distance(math.cos(new_shot.look_angle >> Angular.Radian)\n",
    "                      * new_target_distance.unit_value, new_target_distance.units)\n",
    "print(f'To hit target at look-distance of {new_target_distance << PreferredUnits.distance}'\n",
    "      f' sighted at a {new_shot.look_angle << PreferredUnits.angular} look-angle,' \n",
    "      f' barrel elevation={new_elevation << PreferredUnits.adjustment}'\n",
    "      f'\\n\\t(horizontal distance to this target is {horizontal})')\n",
    "\n",
    "# Firing solution:\n",
    "hold = Angular.Mil((new_elevation >> Angular.Mil) - (zero.weapon.zero_elevation >> Angular.Mil))\n",
    "print(f'Current zero has barrel elevated {zero.weapon.zero_elevation << PreferredUnits.adjustment}'\n",
    "      f' so hold for new shot is {hold << PreferredUnits.adjustment}')      \n",
    "\n",
    "# Plot this shot\n",
    "new_shot.relative_angle = hold\n",
    "adjusted_result = calc.fire(new_shot, trajectory_range=Distance.Meter(1500), extra_data=True)\n",
    "ax = adjusted_result.plot()\n",
    "# Find danger space for a 4-meter tall target\n",
    "danger_space = adjusted_result.danger_space(at_range=new_target_distance,\n",
    "                                        target_height=Distance.Meter(4),\n",
    "                                        look_angle=new_shot.look_angle)\n",
    "print(danger_space)\n",
    "# Highlight danger space on the plot\n",
    "danger_space.overlay(ax, 'Danger Space\\n(4m Target)')\n",
    "plt.show()"
   ]
  },
  {
   "cell_type": "markdown",
   "metadata": {},
   "source": [
    "## Multiple Winds"
   ]
  },
  {
   "cell_type": "code",
   "execution_count": 11,
   "metadata": {
    "ExecuteTime": {
     "end_time": "2024-04-06T19:27:26.683681700Z",
     "start_time": "2024-04-06T19:27:26.021538300Z"
    }
   },
   "outputs": [
    {
     "data": {
      "image/png": "[encoded data removed]",
      "text/plain": [
       "<Figure size 640x480 with 1 Axes>"
      ]
     },
     "metadata": {},
     "output_type": "display_data"
    }
   ],
   "source": [
    "new_shot.winds = [Wind(Velocity.MPS(4), Angular.OClock(9), until_distance=Distance.Meter(400)),\n",
    "                  Wind(Velocity.MPS(4), Angular.OClock(3), until_distance=Distance.Meter(800)),\n",
    "                  Wind(Velocity.MPS(4), Angular.OClock(9), until_distance=Distance.Meter(1200)),]\n",
    "wind_result = calc.fire(new_shot, trajectory_range=1500, extra_data=True)\n",
    "ax = wind_result.dataframe().plot(x='windage', y='distance', ylabel=f'Distance ({PreferredUnits.distance.key}s)', xlabel=f'Windage ({PreferredUnits.distance.key}s)', label='Deflection with winds')\n",
    "no_wind = adjusted_result.dataframe()\n",
    "ax.plot(no_wind.windage, no_wind.distance, label='No wind (spin drift only)')\n",
    "plt.legend(loc=\"upper center\")\n",
    "plt.show()"
   ]
  },
  {
   "cell_type": "markdown",
   "metadata": {},
   "source": [
    "# Plot Drag Curve"
   ]
  },
  {
   "cell_type": "code",
   "execution_count": 12,
   "metadata": {
    "ExecuteTime": {
     "end_time": "2024-04-06T19:27:26.764274Z",
     "start_time": "2024-04-06T19:27:26.680681300Z"
    }
   },
   "outputs": [
    {
     "data": {
      "image/png": "[encoded data removed]",
      "text/plain": [
       "<Figure size 640x480 with 1 Axes>"
      ]
     },
     "metadata": {},
     "output_type": "display_data"
    }
   ],
   "source": [
    "df = pandas.DataFrame(TableG7)\n",
    "ax = df.plot(x='Mach', y='CD', ylabel='Cd', legend=False)\n",
    "plt.show()"
   ]
  },
  {
   "cell_type": "markdown",
   "metadata": {},
   "source": [
    "# Multiple-BC\n",
    "In the old days, even a G7 projectile like the 168gr .308 OTM was quoted with a G1 BC.  Then Sierra offered a multiple-BC model.  Later, Litz published a multiple-BC G7 model.  Here's how they compare."
   ]
  },
  {
   "cell_type": "code",
   "execution_count": 13,
   "metadata": {
    "ExecuteTime": {
     "end_time": "2024-04-06T19:27:26.894424200Z",
     "start_time": "2024-04-06T19:27:26.764274Z"
    }
   },
   "outputs": [
    {
     "data": {
      "image/png": "[encoded data removed]",
      "text/plain": [
       "<Figure size 640x480 with 1 Axes>"
      ]
     },
     "metadata": {},
     "output_type": "display_data"
    }
   ],
   "source": [
    "# Single G1 BC\n",
    "dm1 = DragModelMultiBC([BCPoint(.462, Mach=1)], TableG1, weight=168, diameter=.308)\n",
    "# Sierra's G1 BC: 0.462 above 2600 fps, 0.447 above 2100 fps, 0.424 above 1600 fps, and .405 below that.\n",
    "dm2 = DragModelMultiBC([BCPoint(.462, V=Velocity.FPS(2600)), BCPoint(.462-(.462-.447)/2, V=Velocity.FPS(2350)), BCPoint(.424-(.424-.405)/2, V=Velocity.FPS(1850)), BCPoint(.405, V=Velocity.FPS(1600))],\n",
    "                       TableG1, weight=168, diameter=.308)\n",
    "# Single G7 BC\n",
    "dm3 = DragModelMultiBC([BCPoint(.224, Mach=1)], TableG7, weight=168, diameter=.308)\n",
    "# Litz's G7 multi-BC:\n",
    "dm4 = DragModelMultiBC([BCPoint(.211, V=Velocity.FPS(1500)), BCPoint(.214, V=Velocity.FPS(2000)), BCPoint(.222, V=Velocity.FPS(2500)), BCPoint(.226, V=Velocity.FPS(3000))],\n",
    "                       TableG7, weight=168, diameter=.308)\n",
    "ax = pandas.DataFrame(dm1.drag_table).plot(x='Mach', y='CD', ylabel='Drag Coefficient', label='G1 Single BC (Baseline)')\n",
    "pandas.DataFrame(dm2.drag_table).plot(x='Mach', y='CD', label='G1 Multiple BC (Sierra)', linestyle='dashed', linewidth=2, ax=ax)\n",
    "pandas.DataFrame(dm3.drag_table).plot(x='Mach', y='CD', label='G7 Single BC', linestyle='dashdot', ax=ax)\n",
    "pandas.DataFrame(dm4.drag_table).plot(x='Mach', y='CD', label='G7 Multiple BC (Litz)', linestyle='dotted', linewidth=3, ax=ax)\n",
    "ax.spines[['right', 'top']].set_visible(False)\n",
    "plt.show()"
   ]
  },
  {
   "cell_type": "code",
   "execution_count": 14,
   "metadata": {
    "ExecuteTime": {
     "end_time": "2024-04-06T19:27:26.980321800Z",
     "start_time": "2024-04-06T19:27:26.892424700Z"
    }
   },
   "outputs": [
    {
     "data": {
      "text/html": [
       "<div>\n",
       "<style scoped>\n",
       "    .dataframe tbody tr th:only-of-type {\n",
       "        vertical-align: middle;\n",
       "    }\n",
       "\n",
       "    .dataframe tbody tr th {\n",
       "        vertical-align: top;\n",
       "    }\n",
       "\n",
       "    .dataframe thead th {\n",
       "        text-align: right;\n",
       "    }\n",
       "</style>\n",
       "<table border=\"1\" class=\"dataframe\">\n",
       "  <thead>\n",
       "    <tr style=\"text-align: right;\">\n",
       "      <th></th>\n",
       "      <th>time</th>\n",
       "      <th>velocity</th>\n",
       "      <th>mach</th>\n",
       "      <th>target_drop</th>\n",
       "      <th>drag</th>\n",
       "    </tr>\n",
       "    <tr>\n",
       "      <th>distance</th>\n",
       "      <th></th>\n",
       "      <th></th>\n",
       "      <th></th>\n",
       "      <th></th>\n",
       "      <th></th>\n",
       "    </tr>\n",
       "  </thead>\n",
       "  <tbody>\n",
       "    <tr>\n",
       "      <th>500.0 yd</th>\n",
       "      <td>0.607 s</td>\n",
       "      <td>2043.2 ft/s</td>\n",
       "      <td>1.83 mach</td>\n",
       "      <td>-63.6 inch</td>\n",
       "      <td>0.569</td>\n",
       "    </tr>\n",
       "    <tr>\n",
       "      <th>1000.0 yd</th>\n",
       "      <td>1.527 s</td>\n",
       "      <td>1317.7 ft/s</td>\n",
       "      <td>1.18 mach</td>\n",
       "      <td>-349.3 inch</td>\n",
       "      <td>0.376</td>\n",
       "    </tr>\n",
       "  </tbody>\n",
       "</table>\n",
       "</div>"
      ],
      "text/plain": [
       "              time     velocity       mach  target_drop   drag\n",
       "distance                                                      \n",
       "500.0 yd   0.607 s  2043.2 ft/s  1.83 mach   -63.6 inch  0.569\n",
       "1000.0 yd  1.527 s  1317.7 ft/s  1.18 mach  -349.3 inch  0.376"
      ]
     },
     "metadata": {},
     "output_type": "display_data"
    },
    {
     "data": {
      "text/html": [
       "<div>\n",
       "<style scoped>\n",
       "    .dataframe tbody tr th:only-of-type {\n",
       "        vertical-align: middle;\n",
       "    }\n",
       "\n",
       "    .dataframe tbody tr th {\n",
       "        vertical-align: top;\n",
       "    }\n",
       "\n",
       "    .dataframe thead th {\n",
       "        text-align: right;\n",
       "    }\n",
       "</style>\n",
       "<table border=\"1\" class=\"dataframe\">\n",
       "  <thead>\n",
       "    <tr style=\"text-align: right;\">\n",
       "      <th></th>\n",
       "      <th>time</th>\n",
       "      <th>velocity</th>\n",
       "      <th>mach</th>\n",
       "      <th>target_drop</th>\n",
       "      <th>drag</th>\n",
       "    </tr>\n",
       "    <tr>\n",
       "      <th>distance</th>\n",
       "      <th></th>\n",
       "      <th></th>\n",
       "      <th></th>\n",
       "      <th></th>\n",
       "      <th></th>\n",
       "    </tr>\n",
       "  </thead>\n",
       "  <tbody>\n",
       "    <tr>\n",
       "      <th>500.0 yd</th>\n",
       "      <td>0.607 s</td>\n",
       "      <td>2027.5 ft/s</td>\n",
       "      <td>1.82 mach</td>\n",
       "      <td>-63.6 inch</td>\n",
       "      <td>0.610</td>\n",
       "    </tr>\n",
       "    <tr>\n",
       "      <th>1000.0 yd</th>\n",
       "      <td>1.562 s</td>\n",
       "      <td>1239.6 ft/s</td>\n",
       "      <td>1.11 mach</td>\n",
       "      <td>-358.0 inch</td>\n",
       "      <td>0.380</td>\n",
       "    </tr>\n",
       "  </tbody>\n",
       "</table>\n",
       "</div>"
      ],
      "text/plain": [
       "              time     velocity       mach  target_drop   drag\n",
       "distance                                                      \n",
       "500.0 yd   0.607 s  2027.5 ft/s  1.82 mach   -63.6 inch  0.610\n",
       "1000.0 yd  1.562 s  1239.6 ft/s  1.11 mach  -358.0 inch  0.380"
      ]
     },
     "metadata": {},
     "output_type": "display_data"
    },
    {
     "data": {
      "text/html": [
       "<div>\n",
       "<style scoped>\n",
       "    .dataframe tbody tr th:only-of-type {\n",
       "        vertical-align: middle;\n",
       "    }\n",
       "\n",
       "    .dataframe tbody tr th {\n",
       "        vertical-align: top;\n",
       "    }\n",
       "\n",
       "    .dataframe thead th {\n",
       "        text-align: right;\n",
       "    }\n",
       "</style>\n",
       "<table border=\"1\" class=\"dataframe\">\n",
       "  <thead>\n",
       "    <tr style=\"text-align: right;\">\n",
       "      <th></th>\n",
       "      <th>time</th>\n",
       "      <th>velocity</th>\n",
       "      <th>mach</th>\n",
       "      <th>target_drop</th>\n",
       "      <th>drag</th>\n",
       "    </tr>\n",
       "    <tr>\n",
       "      <th>distance</th>\n",
       "      <th></th>\n",
       "      <th></th>\n",
       "      <th></th>\n",
       "      <th></th>\n",
       "      <th></th>\n",
       "    </tr>\n",
       "  </thead>\n",
       "  <tbody>\n",
       "    <tr>\n",
       "      <th>500.0 yd</th>\n",
       "      <td>0.611 s</td>\n",
       "      <td>2014.5 ft/s</td>\n",
       "      <td>1.80 mach</td>\n",
       "      <td>-64.1 inch</td>\n",
       "      <td>0.584</td>\n",
       "    </tr>\n",
       "    <tr>\n",
       "      <th>1000.0 yd</th>\n",
       "      <td>1.564 s</td>\n",
       "      <td>1227.7 ft/s</td>\n",
       "      <td>1.10 mach</td>\n",
       "      <td>-359.7 inch</td>\n",
       "      <td>0.459</td>\n",
       "    </tr>\n",
       "  </tbody>\n",
       "</table>\n",
       "</div>"
      ],
      "text/plain": [
       "              time     velocity       mach  target_drop   drag\n",
       "distance                                                      \n",
       "500.0 yd   0.611 s  2014.5 ft/s  1.80 mach   -64.1 inch  0.584\n",
       "1000.0 yd  1.564 s  1227.7 ft/s  1.10 mach  -359.7 inch  0.459"
      ]
     },
     "metadata": {},
     "output_type": "display_data"
    },
    {
     "data": {
      "text/html": [
       "<div>\n",
       "<style scoped>\n",
       "    .dataframe tbody tr th:only-of-type {\n",
       "        vertical-align: middle;\n",
       "    }\n",
       "\n",
       "    .dataframe tbody tr th {\n",
       "        vertical-align: top;\n",
       "    }\n",
       "\n",
       "    .dataframe thead th {\n",
       "        text-align: right;\n",
       "    }\n",
       "</style>\n",
       "<table border=\"1\" class=\"dataframe\">\n",
       "  <thead>\n",
       "    <tr style=\"text-align: right;\">\n",
       "      <th></th>\n",
       "      <th>time</th>\n",
       "      <th>velocity</th>\n",
       "      <th>mach</th>\n",
       "      <th>target_drop</th>\n",
       "      <th>drag</th>\n",
       "    </tr>\n",
       "    <tr>\n",
       "      <th>distance</th>\n",
       "      <th></th>\n",
       "      <th></th>\n",
       "      <th></th>\n",
       "      <th></th>\n",
       "      <th></th>\n",
       "    </tr>\n",
       "  </thead>\n",
       "  <tbody>\n",
       "    <tr>\n",
       "      <th>500.0 yd</th>\n",
       "      <td>0.611 s</td>\n",
       "      <td>2001.8 ft/s</td>\n",
       "      <td>1.79 mach</td>\n",
       "      <td>-64.2 inch</td>\n",
       "      <td>0.609</td>\n",
       "    </tr>\n",
       "    <tr>\n",
       "      <th>1000.0 yd</th>\n",
       "      <td>1.587 s</td>\n",
       "      <td>1179.0 ft/s</td>\n",
       "      <td>1.06 mach</td>\n",
       "      <td>-365.6 inch</td>\n",
       "      <td>0.472</td>\n",
       "    </tr>\n",
       "  </tbody>\n",
       "</table>\n",
       "</div>"
      ],
      "text/plain": [
       "              time     velocity       mach  target_drop   drag\n",
       "distance                                                      \n",
       "500.0 yd   0.611 s  2001.8 ft/s  1.79 mach   -64.2 inch  0.609\n",
       "1000.0 yd  1.587 s  1179.0 ft/s  1.06 mach  -365.6 inch  0.472"
      ]
     },
     "metadata": {},
     "output_type": "display_data"
    }
   ],
   "source": [
    "PreferredUnits.distance = Unit.Yard\n",
    "PreferredUnits.velocity = Unit.FPS\n",
    "PreferredUnits.drop = Unit.Inch\n",
    "\n",
    "for dm in [dm1, dm2, dm3, dm4]:\n",
    "    zero = Shot(weapon=Weapon(sight_height=2), ammo=Ammo(dm, mv=Velocity.FPS(3000)))\n",
    "    calc = Calculator()\n",
    "    shot_result = calc.fire(zero, trajectory_range=1000, trajectory_step=500)\n",
    "    display(shot_result.dataframe(True)[['distance', 'time', 'velocity', 'mach', 'target_drop', 'drag']].set_index('distance')[1:])"
   ]
  },
  {
   "cell_type": "markdown",
   "metadata": {},
   "source": [
    "# Working With Units"
   ]
  },
  {
   "cell_type": "code",
   "execution_count": 15,
   "metadata": {
    "ExecuteTime": {
     "end_time": "2024-04-06T19:27:26.992003300Z",
     "start_time": "2024-04-06T19:27:26.977012Z"
    }
   },
   "outputs": [
    {
     "name": "stdout",
     "output_type": "stream",
     "text": [
      "Default distance unit: Foot\n",
      "\tInstantiated from float (5): 5.0ft\n",
      "\tInstantiated from Distance.Line(200): 1.67ft\n",
      "100 meters: 100.0m\n",
      "100 meters in yard: 109.4yd\n",
      "100 meters, value in km: 0.1  (value type is <class 'float'>)\n",
      "100 meters in raw value: 3937.0078740157483  (raw type is <class 'float'>)\n",
      "Comparison: 100.0m == 100.0cm: False\n",
      "Comparison: 100.0m > .1*100.0m: True\n"
     ]
    }
   ],
   "source": [
    "PreferredUnits.distance = Unit.Foot\n",
    "print(f'Default distance unit: {PreferredUnits.distance.name}')\n",
    "# Can create value in default unit with either float or another unit of same type\n",
    "print(f'\\tInstantiated from float (5): {PreferredUnits.distance(5)}')\n",
    "print(f'\\tInstantiated from Distance.Line(200): {PreferredUnits.distance(Distance.Line(200))}')\n",
    "\n",
    "# Ways to define value in units\n",
    "# 1. old syntax\n",
    "unit_in_meter = Distance(100, Distance.Meter)\n",
    "# 2. short syntax by Unit type class\n",
    "unit_in_meter = Distance.Meter(100)\n",
    "# 3. by Unit enum class\n",
    "unit_in_meter = Unit.Meter(100)\n",
    "print(f'100 meters: {unit_in_meter}')\n",
    "# >>> 100 meters: 100.0m\n",
    "\n",
    "# Convert unit\n",
    "# 1. by .convert()\n",
    "unit_in_yards = unit_in_meter.convert(Distance.Yard)\n",
    "# 2. using shift syntax\n",
    "unit_in_yards = unit_in_meter << Distance.Yard  # '<<=' operator also supports\n",
    "print(f'100 meters in {unit_in_yards.units.key}: {unit_in_yards}')\n",
    "# >>> 100 meters in yard: 109.4yd\n",
    "\n",
    "# Get value in specified units (as float)\n",
    "# 1. by .get_in()\n",
    "value_in_km = unit_in_yards.get_in(Distance.Kilometer)\n",
    "# 2. by shift syntax\n",
    "value_in_km = unit_in_yards >> Distance.Kilometer  # '>>=' operator also supports\n",
    "print(f'100 meters, value in km: {value_in_km}  (value type is {type(value_in_km)})')\n",
    "# >>> 100 meters, value in km: 0.1  (value type is <class 'float'>)\n",
    "\n",
    "# Getting unit raw value (a float)\n",
    "rvalue = Distance.Meter(100).raw_value\n",
    "rvalue = float(Distance.Meter(100))\n",
    "print(f'100 meters in raw value: {rvalue}  (raw type is {type(rvalue)})')\n",
    "# >>> 100 meters in raw value: 3937.0078740157483  (raw type is <class 'float'>)\n",
    "\n",
    "# Comparison operators supported: < > <= >= == !=\n",
    "print(f'Comparison: {unit_in_meter} == {Distance.Centimeter(100)}: {unit_in_meter == Distance.Centimeter(100)}')  # >>> False, compare two units by raw value\n",
    "print(f'Comparison: {unit_in_meter} > .1*{unit_in_meter}: {unit_in_meter > .1*unit_in_meter.raw_value}')  # >>> True, compare unit with float by raw value"
   ]
  }
 ],
 "metadata": {
  "kernelspec": {
   "display_name": "Python 3",
   "language": "python",
   "name": "python3"
  },
  "language_info": {
   "codemirror_mode": {
    "name": "ipython",
    "version": 3
   },
   "file_extension": ".py",
   "mimetype": "text/x-python",
   "name": "python",
   "nbconvert_exporter": "python",
   "pygments_lexer": "ipython3",
   "version": "3.10.9"
  }
 },
 "nbformat": 4,
 "nbformat_minor": 4
}
